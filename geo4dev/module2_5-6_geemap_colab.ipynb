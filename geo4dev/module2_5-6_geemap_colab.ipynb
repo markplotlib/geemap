{
 "cells": [
  {
   "cell_type": "markdown",
   "id": "molecular-match",
   "metadata": {},
   "source": [
    "Module 2\n",
    "\n",
    "# 5. GEE Python API and geemap\n",
    "\n",
    "reference: [Google Colab Python API](https://worldbank.github.io/OpenNightLights/tutorials/mod2_5_GEE_PythonAPI_and_geemap.html#google-colab-python-api)"
   ]
  },
  {
   "cell_type": "code",
   "execution_count": 3,
   "id": "aging-tulsa",
   "metadata": {},
   "outputs": [],
   "source": [
    "import geemap, ee"
   ]
  },
  {
   "cell_type": "markdown",
   "id": "gothic-revision",
   "metadata": {},
   "source": [
    "`True` if run in Colab; `False` if local"
   ]
  },
  {
   "cell_type": "code",
   "execution_count": 2,
   "id": "standard-notebook",
   "metadata": {},
   "outputs": [
    {
     "data": {
      "text/plain": [
       "False"
      ]
     },
     "execution_count": 2,
     "metadata": {},
     "output_type": "execute_result"
    }
   ],
   "source": [
    "'google.colab' in str(get_ipython())"
   ]
  },
  {
   "cell_type": "markdown",
   "id": "regulation-cable",
   "metadata": {},
   "source": [
    "# 6. Practical exercise: image visualization\n",
    "\n",
    "## 6.1. Initialize a map object with geemap"
   ]
  },
  {
   "cell_type": "code",
   "execution_count": 4,
   "id": "latest-liberia",
   "metadata": {},
   "outputs": [],
   "source": [
    "try:\n",
    "        ee.Initialize()\n",
    "except Exception as e:\n",
    "        ee.Authenticate()\n",
    "        ee.Initialize()"
   ]
  },
  {
   "cell_type": "code",
   "execution_count": 5,
   "id": "frequent-albuquerque",
   "metadata": {},
   "outputs": [],
   "source": [
    "# set our initial map parameters for Abuja, Nigeria\n",
    "center_lat = 9.0\n",
    "center_lon = 7.4\n",
    "zoomlevel = 6"
   ]
  },
  {
   "cell_type": "code",
   "execution_count": 6,
   "id": "negative-bottle",
   "metadata": {},
   "outputs": [],
   "source": [
    "# initialize our map\n",
    "myFirstMap = geemap.Map(center=[center_lat,center_lon], zoom=zoomlevel)"
   ]
  },
  {
   "cell_type": "code",
   "execution_count": 7,
   "id": "signal-infrared",
   "metadata": {},
   "outputs": [
    {
     "data": {
      "application/vnd.jupyter.widget-view+json": {
       "model_id": "6c57834be1034e9fb4c379e6897e6daf",
       "version_major": 2,
       "version_minor": 0
      },
      "text/plain": [
       "Map(center=[9.0, 7.4], controls=(WidgetControl(options=['position', 'transparent_bg'], widget=HBox(children=(T…"
      ]
     },
     "metadata": {},
     "output_type": "display_data"
    }
   ],
   "source": [
    "# display our map\n",
    "myFirstMap.addLayerControl()\n",
    "myFirstMap"
   ]
  },
  {
   "cell_type": "markdown",
   "id": "choice-metadata",
   "metadata": {},
   "source": [
    "## 6.2 Query DMSP-OLS data for 1992\n",
    "\n",
    "Defense Meteorological Program Operational Linescan System.\n",
    "\n",
    "DMSP is composed of six satellites spanning 1992 to 2013. The satellite designated “F10” is what provided images for 1992.\n",
    "\n",
    "### 6.2.1. Get DMSP-OLS image ID for 1992"
   ]
  },
  {
   "cell_type": "code",
   "execution_count": 8,
   "id": "reserved-nevada",
   "metadata": {},
   "outputs": [],
   "source": [
    "# image ID is input we want\n",
    "dmsp92id = \"NOAA/DMSP-OLS/NIGHTTIME_LIGHTS/F101992\""
   ]
  },
  {
   "cell_type": "markdown",
   "id": "tamil-sydney",
   "metadata": {},
   "source": [
    "## 6.3. Create (and adjust) the Nigeria 1992 nighttime lights layer"
   ]
  },
  {
   "cell_type": "code",
   "execution_count": 9,
   "id": "cognitive-manual",
   "metadata": {},
   "outputs": [
    {
     "data": {
      "application/vnd.jupyter.widget-view+json": {
       "model_id": "1e7f45cd84db4989ab436d9158bdf00f",
       "version_major": 2,
       "version_minor": 0
      },
      "text/plain": [
       "Map(center=[9.0, 7.4], controls=(WidgetControl(options=['position', 'transparent_bg'], widget=HBox(children=(T…"
      ]
     },
     "metadata": {},
     "output_type": "display_data"
    }
   ],
   "source": [
    "# create an ee object for our 1992 image\n",
    "# note that for DMSP, there is only one band, so we dont need to worry about selecting a band.\n",
    "dmsp92 = ee.Image(dmsp92id)\n",
    "\n",
    "# initialize another map add this image as a layer to our map object\n",
    "# and call the layer: \"DMSP NTL 1992\"\n",
    "Map2 = geemap.Map(center=[center_lat,center_lon], zoom=zoomlevel)\n",
    "Map2.addLayer(dmsp92, name='DMSP NTL 1992')\n",
    "\n",
    "Map2.addLayerControl()\n",
    "Map2"
   ]
  }
 ],
 "metadata": {
  "kernelspec": {
   "display_name": "Python 3",
   "language": "python",
   "name": "python3"
  },
  "language_info": {
   "codemirror_mode": {
    "name": "ipython",
    "version": 3
   },
   "file_extension": ".py",
   "mimetype": "text/x-python",
   "name": "python",
   "nbconvert_exporter": "python",
   "pygments_lexer": "ipython3",
   "version": "3.9.2"
  }
 },
 "nbformat": 4,
 "nbformat_minor": 5
}
