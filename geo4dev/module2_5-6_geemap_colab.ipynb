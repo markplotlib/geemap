{
 "cells": [
  {
   "cell_type": "markdown",
   "id": "northern-evans",
   "metadata": {},
   "source": [
    "Module 2\n",
    "\n",
    "# 5. GEE Python API and geemap\n",
    "\n",
    "reference: [Google Colab Python API](https://worldbank.github.io/OpenNightLights/tutorials/mod2_5_GEE_PythonAPI_and_geemap.html#google-colab-python-api)"
   ]
  },
  {
   "cell_type": "code",
   "execution_count": 3,
   "id": "iraqi-career",
   "metadata": {},
   "outputs": [],
   "source": [
    "import geemap, ee"
   ]
  },
  {
   "cell_type": "markdown",
   "id": "alert-arizona",
   "metadata": {},
   "source": [
    "`True` if run in Colab; `False` if local"
   ]
  },
  {
   "cell_type": "code",
   "execution_count": 2,
   "id": "labeled-african",
   "metadata": {},
   "outputs": [
    {
     "data": {
      "text/plain": [
       "False"
      ]
     },
     "execution_count": 2,
     "metadata": {},
     "output_type": "execute_result"
    }
   ],
   "source": [
    "'google.colab' in str(get_ipython())"
   ]
  },
  {
   "cell_type": "markdown",
   "id": "copyrighted-integrity",
   "metadata": {},
   "source": [
    "# 6. Practical exercise: image visualization\n",
    "\n",
    "## 6.1. Initialize a map object with geemap"
   ]
  },
  {
   "cell_type": "code",
   "execution_count": 4,
   "id": "dominican-sigma",
   "metadata": {},
   "outputs": [],
   "source": [
    "try:\n",
    "        ee.Initialize()\n",
    "except Exception as e:\n",
    "        ee.Authenticate()\n",
    "        ee.Initialize()"
   ]
  },
  {
   "cell_type": "code",
   "execution_count": 5,
   "id": "sonic-princeton",
   "metadata": {},
   "outputs": [],
   "source": [
    "# set our initial map parameters for Abuja, Nigeria\n",
    "center_lat = 9.0\n",
    "center_lon = 7.4\n",
    "zoomlevel = 6"
   ]
  },
  {
   "cell_type": "code",
   "execution_count": 6,
   "id": "coastal-arbor",
   "metadata": {},
   "outputs": [],
   "source": [
    "# initialize our map\n",
    "myFirstMap = geemap.Map(center=[center_lat,center_lon], zoom=zoomlevel)"
   ]
  },
  {
   "cell_type": "code",
   "execution_count": 7,
   "id": "sticky-brake",
   "metadata": {},
   "outputs": [
    {
     "data": {
      "application/vnd.jupyter.widget-view+json": {
       "model_id": "6c57834be1034e9fb4c379e6897e6daf",
       "version_major": 2,
       "version_minor": 0
      },
      "text/plain": [
       "Map(center=[9.0, 7.4], controls=(WidgetControl(options=['position', 'transparent_bg'], widget=HBox(children=(T…"
      ]
     },
     "metadata": {},
     "output_type": "display_data"
    }
   ],
   "source": [
    "# display our map\n",
    "myFirstMap.addLayerControl()\n",
    "myFirstMap"
   ]
  },
  {
   "cell_type": "markdown",
   "id": "fixed-respondent",
   "metadata": {},
   "source": [
    "## 6.2 Query DMSP-OLS data for 1992\n",
    "\n",
    "Defense Meteorological Program Operational Linescan System.\n",
    "\n",
    "DMSP is composed of six satellites spanning 1992 to 2013. The satellite designated “F10” is what provided images for 1992.\n",
    "\n",
    "### 6.2.1. Get DMSP-OLS image ID for 1992"
   ]
  },
  {
   "cell_type": "code",
   "execution_count": 8,
   "id": "fitted-lounge",
   "metadata": {},
   "outputs": [],
   "source": [
    "# image ID is input we want\n",
    "dmsp92id = \"NOAA/DMSP-OLS/NIGHTTIME_LIGHTS/F101992\""
   ]
  },
  {
   "cell_type": "markdown",
   "id": "architectural-wrapping",
   "metadata": {},
   "source": [
    "## 6.3. Create (and adjust) the Nigeria 1992 nighttime lights layer"
   ]
  },
  {
   "cell_type": "code",
   "execution_count": 9,
   "id": "anonymous-cricket",
   "metadata": {},
   "outputs": [
    {
     "data": {
      "application/vnd.jupyter.widget-view+json": {
       "model_id": "1e7f45cd84db4989ab436d9158bdf00f",
       "version_major": 2,
       "version_minor": 0
      },
      "text/plain": [
       "Map(center=[9.0, 7.4], controls=(WidgetControl(options=['position', 'transparent_bg'], widget=HBox(children=(T…"
      ]
     },
     "metadata": {},
     "output_type": "display_data"
    }
   ],
   "source": [
    "# create an ee object for our 1992 image\n",
    "# note that for DMSP, there is only one band, so we dont need to worry about selecting a band.\n",
    "dmsp92 = ee.Image(dmsp92id)\n",
    "\n",
    "# initialize another map add this image as a layer to our map object\n",
    "# and call the layer: \"DMSP NTL 1992\"\n",
    "Map2 = geemap.Map(center=[center_lat,center_lon], zoom=zoomlevel)\n",
    "Map2.addLayer(dmsp92, name='DMSP NTL 1992')\n",
    "\n",
    "Map2.addLayerControl()\n",
    "Map2"
   ]
  },
  {
   "cell_type": "markdown",
   "id": "south-upset",
   "metadata": {},
   "source": [
    "### 6.3.1. Changing opacity"
   ]
  },
  {
   "cell_type": "code",
   "execution_count": 10,
   "id": "artificial-salad",
   "metadata": {},
   "outputs": [
    {
     "data": {
      "application/vnd.jupyter.widget-view+json": {
       "model_id": "edd17072bcb64615b554a6eabe78b38d",
       "version_major": 2,
       "version_minor": 0
      },
      "text/plain": [
       "Map(center=[9.0, 7.4], controls=(WidgetControl(options=['position', 'transparent_bg'], widget=HBox(children=(T…"
      ]
     },
     "metadata": {},
     "output_type": "display_data"
    }
   ],
   "source": [
    "Map3 = geemap.Map(center=[center_lat,center_lon], zoom=zoomlevel)\n",
    "Map3.addLayer(dmsp92, name='DMSP NTL 1992', opacity=0.75)\n",
    "\n",
    "Map3.addLayerControl()\n",
    "Map3"
   ]
  },
  {
   "cell_type": "markdown",
   "id": "printable-alaska",
   "metadata": {},
   "source": [
    "## 6.4. Creating a mask"
   ]
  },
  {
   "cell_type": "code",
   "execution_count": 11,
   "id": "associate-illustration",
   "metadata": {
    "scrolled": true
   },
   "outputs": [
    {
     "data": {
      "application/vnd.jupyter.widget-view+json": {
       "model_id": "b7353e0374734395b84121c3b1646502",
       "version_major": 2,
       "version_minor": 0
      },
      "text/plain": [
       "Map(center=[9.0, 7.4], controls=(WidgetControl(options=['position', 'transparent_bg'], widget=HBox(children=(T…"
      ]
     },
     "metadata": {},
     "output_type": "display_data"
    }
   ],
   "source": [
    "Map4 = geemap.Map(center=[center_lat,center_lon], zoom=zoomlevel)\n",
    "Map4.addLayer(dmsp92.mask(dmsp92), name='DMSP NTL 1992 masked', opacity=0.75)\n",
    "\n",
    "Map4.addLayerControl()\n",
    "Map4"
   ]
  },
  {
   "cell_type": "markdown",
   "id": "growing-freedom",
   "metadata": {},
   "source": [
    "## 6.5. Change the basemap"
   ]
  },
  {
   "cell_type": "code",
   "execution_count": 12,
   "id": "broken-tattoo",
   "metadata": {},
   "outputs": [
    {
     "data": {
      "application/vnd.jupyter.widget-view+json": {
       "model_id": "8fd22899ff9246d08a1f6a5786c42fc8",
       "version_major": 2,
       "version_minor": 0
      },
      "text/plain": [
       "Map(center=[9.0, 7.4], controls=(WidgetControl(options=['position', 'transparent_bg'], widget=HBox(children=(T…"
      ]
     },
     "metadata": {},
     "output_type": "display_data"
    }
   ],
   "source": [
    "# initial map object centered on Abuja\n",
    "Map5 = geemap.Map(center=[center_lat,center_lon], zoom=zoomlevel)\n",
    "\n",
    "# add our alternate basemap\n",
    "Map5.add_basemap(\"SATELLITE\")\n",
    "\n",
    "# add our 1992 (and remember to create a mask and change opacity to 75%)\n",
    "Map5.addLayer(dmsp92.mask(dmsp92), name='DMSP NTL 1992 masked', opacity=0.75)\n",
    "\n",
    "Map5.addLayerControl()\n",
    "Map5"
   ]
  },
  {
   "cell_type": "code",
   "execution_count": 13,
   "id": "proper-indicator",
   "metadata": {},
   "outputs": [],
   "source": [
    "# find the Image ID for DMSP-OLS 2013 and set it as a new variable\n",
    "# (hint: the satellite's name is \"F18\")\n",
    "# ee.ImageCollection(\"NOAA/DMSP-OLS/NIGHTTIME_LIGHTS\")\n",
    "img_collection = \"NOAA/DMSP-OLS/NIGHTTIME_LIGHTS/\"\n",
    "dmps2013id = img_collection + 'F182013'\n",
    "\n",
    "# create the ee object\n",
    "dmsp13 = ee.Image(dmps2013id)\n",
    "\n",
    "# initialize a map object, centered on Abuja\n",
    "Map6 = geemap.Map(center=[center_lat,center_lon], zoom=zoomlevel)"
   ]
  },
  {
   "cell_type": "code",
   "execution_count": 15,
   "id": "provincial-decimal",
   "metadata": {},
   "outputs": [
    {
     "data": {
      "application/vnd.jupyter.widget-view+json": {
       "model_id": "9782e322d8ba479aa9796d2ad8b08d00",
       "version_major": 2,
       "version_minor": 0
      },
      "text/plain": [
       "Map(center=[9.0, 7.4], controls=(WidgetControl(options=['position', 'transparent_bg'], widget=HBox(children=(T…"
      ]
     },
     "metadata": {},
     "output_type": "display_data"
    }
   ],
   "source": [
    "# name it \"DMSP NTL 2013\", create a mask, and give it an opacity of 75%.\n",
    "Map6.addLayer(dmsp13.mask(dmsp13),\n",
    "              name='DMSP NTL 2013 masked', opacity=.75)\n",
    "\n",
    "Map6.addLayerControl()\n",
    "Map6"
   ]
  }
 ],
 "metadata": {
  "kernelspec": {
   "display_name": "Python 3",
   "language": "python",
   "name": "python3"
  },
  "language_info": {
   "codemirror_mode": {
    "name": "ipython",
    "version": 3
   },
   "file_extension": ".py",
   "mimetype": "text/x-python",
   "name": "python",
   "nbconvert_exporter": "python",
   "pygments_lexer": "ipython3",
   "version": "3.9.2"
  }
 },
 "nbformat": 4,
 "nbformat_minor": 5
}
