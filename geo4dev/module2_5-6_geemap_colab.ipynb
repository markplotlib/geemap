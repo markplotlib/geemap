{
 "cells": [
  {
   "cell_type": "markdown",
   "id": "minor-passion",
   "metadata": {},
   "source": [
    "Module 2\n",
    "\n",
    "# 5. GEE Python API and geemap\n",
    "\n",
    "reference: [Google Colab Python API](https://worldbank.github.io/OpenNightLights/tutorials/mod2_5_GEE_PythonAPI_and_geemap.html#google-colab-python-api)"
   ]
  },
  {
   "cell_type": "code",
   "execution_count": 1,
   "id": "perceived-comparison",
   "metadata": {},
   "outputs": [],
   "source": [
    "import geemap, ee"
   ]
  },
  {
   "cell_type": "markdown",
   "id": "worst-radar",
   "metadata": {},
   "source": [
    "`True` if run in Colab; `False` if local"
   ]
  },
  {
   "cell_type": "code",
   "execution_count": 2,
   "id": "reported-elizabeth",
   "metadata": {},
   "outputs": [
    {
     "data": {
      "text/plain": [
       "False"
      ]
     },
     "execution_count": 2,
     "metadata": {},
     "output_type": "execute_result"
    }
   ],
   "source": [
    "'google.colab' in str(get_ipython())"
   ]
  },
  {
   "cell_type": "markdown",
   "id": "competent-sampling",
   "metadata": {},
   "source": [
    "# 6. Practical exercise: image visualization\n",
    "\n",
    "## 6.1. Initialize a map object with geemap"
   ]
  },
  {
   "cell_type": "code",
   "execution_count": 3,
   "id": "sitting-vancouver",
   "metadata": {},
   "outputs": [],
   "source": [
    "try:\n",
    "        ee.Initialize()\n",
    "except Exception as e:\n",
    "        ee.Authenticate()\n",
    "        ee.Initialize()"
   ]
  },
  {
   "cell_type": "code",
   "execution_count": 4,
   "id": "intellectual-genetics",
   "metadata": {},
   "outputs": [],
   "source": [
    "# set our initial map parameters for Abuja, Nigeria\n",
    "center_lat = 9.0\n",
    "center_lon = 7.4\n",
    "zoomlevel = 6"
   ]
  },
  {
   "cell_type": "code",
   "execution_count": 5,
   "id": "asian-machinery",
   "metadata": {},
   "outputs": [],
   "source": [
    "# initialize our map\n",
    "myFirstMap = geemap.Map(center=[center_lat,center_lon], zoom=zoomlevel)"
   ]
  },
  {
   "cell_type": "code",
   "execution_count": 6,
   "id": "acknowledged-memorial",
   "metadata": {},
   "outputs": [
    {
     "data": {
      "application/vnd.jupyter.widget-view+json": {
       "model_id": "77ece8dc35d94b97a91d2d6ac355bb8b",
       "version_major": 2,
       "version_minor": 0
      },
      "text/plain": [
       "Map(center=[9.0, 7.4], controls=(WidgetControl(options=['position', 'transparent_bg'], widget=HBox(children=(T…"
      ]
     },
     "metadata": {},
     "output_type": "display_data"
    }
   ],
   "source": [
    "# display our map\n",
    "myFirstMap.addLayerControl()\n",
    "myFirstMap"
   ]
  },
  {
   "cell_type": "markdown",
   "id": "sealed-arena",
   "metadata": {},
   "source": [
    "## 6.2 Query DMSP-OLS data for 1992\n",
    "\n",
    "Defense Meteorological Program Operational Linescan System.\n",
    "\n",
    "DMSP is composed of six satellites spanning 1992 to 2013. The satellite designated “F10” is what provided images for 1992.\n",
    "\n",
    "### 6.2.1. Get DMSP-OLS image ID for 1992"
   ]
  },
  {
   "cell_type": "code",
   "execution_count": 7,
   "id": "bulgarian-ballet",
   "metadata": {},
   "outputs": [],
   "source": [
    "# image ID is input we want\n",
    "dmsp92id = \"NOAA/DMSP-OLS/NIGHTTIME_LIGHTS/F101992\""
   ]
  },
  {
   "cell_type": "markdown",
   "id": "innocent-romania",
   "metadata": {},
   "source": [
    "## 6.3. Create (and adjust) the Nigeria 1992 nighttime lights layer"
   ]
  },
  {
   "cell_type": "code",
   "execution_count": 8,
   "id": "hispanic-tumor",
   "metadata": {},
   "outputs": [
    {
     "data": {
      "application/vnd.jupyter.widget-view+json": {
       "model_id": "6e2e1f2390254c98a4d919ec0a5c1a20",
       "version_major": 2,
       "version_minor": 0
      },
      "text/plain": [
       "Map(center=[9.0, 7.4], controls=(WidgetControl(options=['position', 'transparent_bg'], widget=HBox(children=(T…"
      ]
     },
     "metadata": {},
     "output_type": "display_data"
    }
   ],
   "source": [
    "# create an ee object for our 1992 image\n",
    "# note that for DMSP, there is only one band, so we dont need to worry about selecting a band.\n",
    "dmsp92 = ee.Image(dmsp92id)\n",
    "\n",
    "# initialize another map add this image as a layer to our map object\n",
    "# and call the layer: \"DMSP NTL 1992\"\n",
    "Map2 = geemap.Map(center=[center_lat,center_lon], zoom=zoomlevel)\n",
    "Map2.addLayer(dmsp92, name='DMSP NTL 1992')\n",
    "\n",
    "Map2.addLayerControl()\n",
    "Map2"
   ]
  },
  {
   "cell_type": "markdown",
   "id": "fluid-milton",
   "metadata": {},
   "source": [
    "### 6.3.1. Changing opacity"
   ]
  },
  {
   "cell_type": "code",
   "execution_count": 9,
   "id": "lesbian-stephen",
   "metadata": {},
   "outputs": [
    {
     "data": {
      "application/vnd.jupyter.widget-view+json": {
       "model_id": "ccb9735351674e62a35844a16affae5d",
       "version_major": 2,
       "version_minor": 0
      },
      "text/plain": [
       "Map(center=[9.0, 7.4], controls=(WidgetControl(options=['position', 'transparent_bg'], widget=HBox(children=(T…"
      ]
     },
     "metadata": {},
     "output_type": "display_data"
    }
   ],
   "source": [
    "Map3 = geemap.Map(center=[center_lat,center_lon], zoom=zoomlevel)\n",
    "Map3.addLayer(dmsp92, name='DMSP NTL 1992', opacity=0.75)\n",
    "\n",
    "Map3.addLayerControl()\n",
    "Map3"
   ]
  },
  {
   "cell_type": "markdown",
   "id": "assigned-identification",
   "metadata": {},
   "source": [
    "## 6.4. Creating a mask"
   ]
  },
  {
   "cell_type": "code",
   "execution_count": 10,
   "id": "federal-drunk",
   "metadata": {
    "scrolled": true
   },
   "outputs": [
    {
     "data": {
      "application/vnd.jupyter.widget-view+json": {
       "model_id": "d43853b4f6c84a7fbd1b912519b9a843",
       "version_major": 2,
       "version_minor": 0
      },
      "text/plain": [
       "Map(center=[9.0, 7.4], controls=(WidgetControl(options=['position', 'transparent_bg'], widget=HBox(children=(T…"
      ]
     },
     "metadata": {},
     "output_type": "display_data"
    }
   ],
   "source": [
    "Map4 = geemap.Map(center=[center_lat,center_lon], zoom=zoomlevel)\n",
    "Map4.addLayer(dmsp92.mask(dmsp92), name='DMSP NTL 1992 masked', opacity=0.75)\n",
    "\n",
    "Map4.addLayerControl()\n",
    "Map4"
   ]
  },
  {
   "cell_type": "markdown",
   "id": "significant-material",
   "metadata": {},
   "source": [
    "## 6.5. Change the basemap"
   ]
  },
  {
   "cell_type": "code",
   "execution_count": 11,
   "id": "recognized-awareness",
   "metadata": {},
   "outputs": [
    {
     "data": {
      "application/vnd.jupyter.widget-view+json": {
       "model_id": "07d741a76dbc432987859f92f24837f6",
       "version_major": 2,
       "version_minor": 0
      },
      "text/plain": [
       "Map(center=[9.0, 7.4], controls=(WidgetControl(options=['position', 'transparent_bg'], widget=HBox(children=(T…"
      ]
     },
     "metadata": {},
     "output_type": "display_data"
    }
   ],
   "source": [
    "# initial map object centered on Abuja\n",
    "Map5 = geemap.Map(center=[center_lat,center_lon], zoom=zoomlevel)\n",
    "\n",
    "# add our alternate basemap\n",
    "Map5.add_basemap(\"SATELLITE\")\n",
    "\n",
    "# add our 1992 (and remember to create a mask and change opacity to 75%)\n",
    "Map5.addLayer(dmsp92.mask(dmsp92), name='DMSP NTL 1992 masked', opacity=0.75)\n",
    "\n",
    "Map5.addLayerControl()\n",
    "Map5"
   ]
  },
  {
   "cell_type": "markdown",
   "id": "personalized-validation",
   "metadata": {},
   "source": [
    "## 6.6. Visual inspection\n",
    "\n",
    "* Toggle the satellte basemap off to compare nighttime lights to the road network as well as the satellite view. There should be an icon in the upper right corner that will allow you to do this.\n",
    "\n",
    "* Can you see where the overlap of the nighttime lights are with the roads and “built up” areas?\n",
    "\n",
    "* How well do they overlap?\n",
    "\n",
    "* Are there any surprises?\n",
    "\n",
    "* What about other parts of Nigeria?\n",
    "\n",
    "## 6.7. Add a layer for DMSP-OLS 2013"
   ]
  },
  {
   "cell_type": "code",
   "execution_count": 12,
   "id": "compact-found",
   "metadata": {},
   "outputs": [],
   "source": [
    "# find the Image ID for DMSP-OLS 2013 and set it as a new variable\n",
    "# (hint: the satellite's name is \"F18\")\n",
    "# ee.ImageCollection(\"NOAA/DMSP-OLS/NIGHTTIME_LIGHTS\")\n",
    "img_collection = \"NOAA/DMSP-OLS/NIGHTTIME_LIGHTS/\"\n",
    "dmps2013id = img_collection + 'F182013'\n",
    "\n",
    "# create the ee object\n",
    "dmsp13 = ee.Image(dmps2013id)\n",
    "\n",
    "# initialize a map object, centered on Abuja\n",
    "Map6 = geemap.Map(center=[center_lat,center_lon], zoom=zoomlevel)"
   ]
  },
  {
   "cell_type": "code",
   "execution_count": 13,
   "id": "intimate-working",
   "metadata": {
    "scrolled": true
   },
   "outputs": [
    {
     "data": {
      "application/vnd.jupyter.widget-view+json": {
       "model_id": "903f476b75ce48449b2693a643325bfb",
       "version_major": 2,
       "version_minor": 0
      },
      "text/plain": [
       "Map(center=[9.0, 7.4], controls=(WidgetControl(options=['position', 'transparent_bg'], widget=HBox(children=(T…"
      ]
     },
     "metadata": {},
     "output_type": "display_data"
    }
   ],
   "source": [
    "# name it \"DMSP NTL 2013\", create a mask, and give it an opacity of 75%.\n",
    "Map6.addLayer(dmsp13.mask(dmsp13),\n",
    "              name='DMSP NTL 2013 masked', opacity=.75)\n",
    "\n",
    "Map6.addLayerControl()\n",
    "Map6"
   ]
  },
  {
   "cell_type": "markdown",
   "id": "frank-beach",
   "metadata": {},
   "source": [
    "# 6.8. (local PC only) Create a split planel view\n",
    "\n",
    "Warning, this is based on `ipyleaflet` a Python library that does not play well with Google Colab, so this code will not work in the Google Colab environment but should on your local machine."
   ]
  },
  {
   "cell_type": "code",
   "execution_count": 16,
   "id": "opening-brain",
   "metadata": {},
   "outputs": [],
   "source": [
    "# generate tile layers from the ee image objects, masking and changing opacity to 75%\n",
    "dmsp92_tile = geemap.ee_tile_layer(dmsp92.mask(dmsp92), {}, 'DMSP NTL 1992', opacity=0.75)\n",
    "dmsp2013_tile = geemap.ee_tile_layer(dmsp13.mask(dmsp13), {}, 'DMSP NTL 2013', opacity=0.75)"
   ]
  },
  {
   "cell_type": "code",
   "execution_count": 17,
   "id": "deluxe-printing",
   "metadata": {},
   "outputs": [
    {
     "data": {
      "application/vnd.jupyter.widget-view+json": {
       "model_id": "793e13ff089743c5b34846714505a7d5",
       "version_major": 2,
       "version_minor": 0
      },
      "text/plain": [
       "Map(center=[9.0, 7.4], controls=(WidgetControl(options=['position', 'transparent_bg'], widget=HBox(children=(T…"
      ]
     },
     "metadata": {},
     "output_type": "display_data"
    }
   ],
   "source": [
    "# initial map object centered on Abuja\n",
    "Map7 = geemap.Map(center=[center_lat,center_lon], zoom=zoomlevel)\n",
    "\n",
    "# use .split_map function to create split panels\n",
    "Map7.split_map(left_layer=dmsp92_tile, right_layer=dmsp2013_tile)\n",
    "\n",
    "\n",
    "Map7.addLayerControl()\n",
    "Map7"
   ]
  }
 ],
 "metadata": {
  "kernelspec": {
   "display_name": "Python 3",
   "language": "python",
   "name": "python3"
  },
  "language_info": {
   "codemirror_mode": {
    "name": "ipython",
    "version": 3
   },
   "file_extension": ".py",
   "mimetype": "text/x-python",
   "name": "python",
   "nbconvert_exporter": "python",
   "pygments_lexer": "ipython3",
   "version": "3.9.2"
  }
 },
 "nbformat": 4,
 "nbformat_minor": 5
}
