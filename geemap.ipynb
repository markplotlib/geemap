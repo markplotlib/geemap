{
 "cells": [
  {
   "cell_type": "markdown",
   "metadata": {},
   "source": [
    "# Note\n",
    "\n",
    "Done in my local GEE conda environment.\n",
    "\n",
    "## resources:\n",
    "* [main tutorial & hub of URLs](https://github.com/giswqs/geemap)\n",
    "* * #0 - #4 incorporated.\n",
    "\n",
    "## 2 approaches\n",
    "ipyleaflet vs folium\n",
    "\n",
    "## ipyleaflet: base layers\n",
    "\n",
    "### ~~folium~~"
   ]
  },
  {
   "cell_type": "code",
   "execution_count": 1,
   "metadata": {},
   "outputs": [],
   "source": [
    "import geemap\n",
    "import ee\n",
    "\n",
    "# Set EE visualization parameters.\n",
    "vis_params = {\n",
    "  'min': 0,\n",
    "  'max': 4000,\n",
    "  'palette': ['006633', 'E5FFCC', '662A00', 'D8D8D8', 'F5F5F5']}"
   ]
  },
  {
   "cell_type": "code",
   "execution_count": 4,
   "metadata": {},
   "outputs": [
    {
     "data": {
      "application/vnd.jupyter.widget-view+json": {
       "model_id": "ae7a8bfefb2f4e32b7d1f4d60bcded67",
       "version_major": 2,
       "version_minor": 0
      },
      "text/plain": [
       "Map(center=[53.5, -9], controls=(WidgetControl(options=['position', 'transparent_bg'], widget=HBox(children=(T…"
      ]
     },
     "metadata": {},
     "output_type": "display_data"
    }
   ],
   "source": [
    "# Ireland\n",
    "Map = geemap.Map(center=[53.5,-9], zoom=7)\n",
    "# Map.basemap_demo()\n",
    "Map.add_basemap('Esri Satellite')\n",
    "Map\n"
   ]
  },
  {
   "cell_type": "code",
   "execution_count": 7,
   "metadata": {},
   "outputs": [
    {
     "data": {
      "application/vnd.jupyter.widget-view+json": {
       "model_id": "deb7573d63dd422cbb53188ebf9903ea",
       "version_major": 2,
       "version_minor": 0
      },
      "text/plain": [
       "Map(center=[53.5, -9], controls=(WidgetControl(options=['position', 'transparent_bg'], widget=HBox(children=(T…"
      ]
     },
     "metadata": {},
     "output_type": "display_data"
    }
   ],
   "source": [
    "### Add Earth Engine dataset\n",
    "Map = geemap.Map(center=[53.5,-9], zoom=7)\n",
    "# Add Earth Engine layers to Map\n",
    "dem = ee.Image('USGS/SRTMGL1_003')\n",
    "Map.addLayer(dem, vis_params, 'SRTM DEM', True, 0.5)\n",
    "## add landcover layer\n",
    "landcover = ee.Image(\"ESA/GLOBCOVER_L4_200901_200912_V2_3\").select('landcover')\n",
    "Map.addLayer(landcover, {}, 'Land cover')\n",
    "\n",
    "Map"
   ]
  },
  {
   "cell_type": "code",
   "execution_count": 8,
   "metadata": {},
   "outputs": [
    {
     "data": {
      "application/vnd.jupyter.widget-view+json": {
       "model_id": "4fd2fcf65b074e93a9c7d9e3cd6f375d",
       "version_major": 2,
       "version_minor": 0
      },
      "text/plain": [
       "Map(center=[53.5, -9], controls=(WidgetControl(options=['position', 'transparent_bg'], widget=HBox(children=(T…"
      ]
     },
     "metadata": {},
     "output_type": "display_data"
    }
   ],
   "source": [
    "# Landsat layer\n",
    "Map = geemap.Map(center=[53.5,-9], zoom=7)\n",
    "landsat7 = ee.Image('LE7_TOA_5YEAR/1999_2003').select(['B1', 'B2', 'B3', 'B4', 'B5', 'B7'])\n",
    "Map.addLayer(landsat7, {'bands': ['B4', 'B3', 'B2'], 'min': 20, 'max': 200, 'gamma': 2.0}, 'Landsat 7')\n",
    "Map"
   ]
  },
  {
   "cell_type": "code",
   "execution_count": 9,
   "metadata": {},
   "outputs": [
    {
     "data": {
      "application/vnd.jupyter.widget-view+json": {
       "model_id": "98ddac64dfd840d3aabc6df80be4e652",
       "version_major": 2,
       "version_minor": 0
      },
      "text/plain": [
       "Map(center=[53.5, -8], controls=(WidgetControl(options=['position', 'transparent_bg'], widget=HBox(children=(T…"
      ]
     },
     "metadata": {},
     "output_type": "display_data"
    }
   ],
   "source": [
    "Map = geemap.Map(center=[53.5,-8], zoom=7)\n",
    "Map.split_map('Esri Satellite', 'Esri Physical Map')\n",
    "\n",
    "Map"
   ]
  },
  {
   "cell_type": "code",
   "execution_count": null,
   "metadata": {},
   "outputs": [],
   "source": [
    "for basemap in geemap.basemaps.keys():\n",
    "    print(basemap, end=', ')"
   ]
  },
  {
   "cell_type": "code",
   "execution_count": null,
   "metadata": {},
   "outputs": [],
   "source": [
    "\n",
    "\n"
   ]
  }
 ],
 "metadata": {
  "kernelspec": {
   "display_name": "Python 3",
   "language": "python",
   "name": "python3"
  },
  "language_info": {
   "codemirror_mode": {
    "name": "ipython",
    "version": 3
   },
   "file_extension": ".py",
   "mimetype": "text/x-python",
   "name": "python",
   "nbconvert_exporter": "python",
   "pygments_lexer": "ipython3",
   "version": "3.9.2"
  }
 },
 "nbformat": 4,
 "nbformat_minor": 4
}
