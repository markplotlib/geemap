{
 "cells": [
  {
   "cell_type": "markdown",
   "metadata": {},
   "source": [
    "# Note\n",
    "\n",
    "Done in my local GEE conda environment.\n",
    "\n",
    "## resources:\n",
    "* [main tutorial & hub of URLs](https://github.com/giswqs/geemap)\n",
    "* * #0 - #4 incorporated.\n",
    "\n",
    "## 2 approaches\n",
    "ipyleaflet vs folium\n",
    "\n",
    "## ipyleaflet: base layers\n",
    "\n",
    "### ~~folium~~"
   ]
  },
  {
   "cell_type": "code",
   "execution_count": 1,
   "metadata": {},
   "outputs": [],
   "source": [
    "import geemap\n",
    "import ee\n",
    "\n",
    "# Set EE visualization parameters.\n",
    "vis_params = {\n",
    "  'min': 0,\n",
    "  'max': 4000,\n",
    "  'palette': ['006633', 'E5FFCC', '662A00', 'D8D8D8', 'F5F5F5']}"
   ]
  },
  {
   "cell_type": "code",
   "execution_count": 2,
   "metadata": {},
   "outputs": [
    {
     "data": {
      "application/vnd.jupyter.widget-view+json": {
       "model_id": "655be9fb5f034205a4bae76ba6e17b42",
       "version_major": 2,
       "version_minor": 0
      },
      "text/plain": [
       "Map(center=[53.5, -9], controls=(WidgetControl(options=['position', 'transparent_bg'], widget=HBox(children=(T…"
      ]
     },
     "metadata": {},
     "output_type": "display_data"
    }
   ],
   "source": [
    "# Ireland\n",
    "Map = geemap.Map(center=[53.5,-9], zoom=7)\n",
    "# Map.basemap_demo()\n",
    "Map.add_basemap('Esri Satellite')\n",
    "Map\n"
   ]
  },
  {
   "cell_type": "code",
   "execution_count": 3,
   "metadata": {},
   "outputs": [
    {
     "data": {
      "application/vnd.jupyter.widget-view+json": {
       "model_id": "653a81059b8c48d48852b0d07144ac70",
       "version_major": 2,
       "version_minor": 0
      },
      "text/plain": [
       "Map(center=[53.5, -9], controls=(WidgetControl(options=['position', 'transparent_bg'], widget=HBox(children=(T…"
      ]
     },
     "metadata": {},
     "output_type": "display_data"
    }
   ],
   "source": [
    "### Add Earth Engine dataset\n",
    "Map = geemap.Map(center=[53.5,-9], zoom=7)\n",
    "# Add Earth Engine layers to Map\n",
    "dem = ee.Image('USGS/SRTMGL1_003')\n",
    "Map.addLayer(dem, vis_params, 'SRTM DEM', True, 0.5)\n",
    "## add landcover layer\n",
    "landcover = ee.Image(\"ESA/GLOBCOVER_L4_200901_200912_V2_3\").select('landcover')\n",
    "Map.addLayer(landcover, {}, 'Land cover')\n",
    "\n",
    "Map"
   ]
  },
  {
   "cell_type": "code",
   "execution_count": 4,
   "metadata": {},
   "outputs": [
    {
     "data": {
      "application/vnd.jupyter.widget-view+json": {
       "model_id": "0842fdc01cc04ababd80f3a2ddd2c63a",
       "version_major": 2,
       "version_minor": 0
      },
      "text/plain": [
       "Map(center=[53.5, -9], controls=(WidgetControl(options=['position', 'transparent_bg'], widget=HBox(children=(T…"
      ]
     },
     "metadata": {},
     "output_type": "display_data"
    }
   ],
   "source": [
    "# Landsat layer\n",
    "Map = geemap.Map(center=[53.5,-9], zoom=7)\n",
    "landsat7 = ee.Image('LE7_TOA_5YEAR/1999_2003').select(['B1', 'B2', 'B3', 'B4', 'B5', 'B7'])\n",
    "Map.addLayer(landsat7, {'bands': ['B4', 'B3', 'B2'], 'min': 20, 'max': 200, 'gamma': 2.0}, 'Landsat 7')\n",
    "Map"
   ]
  },
  {
   "cell_type": "code",
   "execution_count": 5,
   "metadata": {},
   "outputs": [
    {
     "data": {
      "application/vnd.jupyter.widget-view+json": {
       "model_id": "938cfc2c3bce42ffbe0299951ca740b2",
       "version_major": 2,
       "version_minor": 0
      },
      "text/plain": [
       "Map(center=[53.5, -8], controls=(WidgetControl(options=['position', 'transparent_bg'], widget=HBox(children=(T…"
      ]
     },
     "metadata": {},
     "output_type": "display_data"
    }
   ],
   "source": [
    "Map = geemap.Map(center=[53.5,-8], zoom=7)\n",
    "Map.split_map('Esri Satellite', 'Esri Physical Map')\n",
    "\n",
    "Map"
   ]
  },
  {
   "cell_type": "code",
   "execution_count": 10,
   "metadata": {
    "scrolled": true
   },
   "outputs": [
    {
     "data": {
      "text/plain": [
       "['ROADMAP',\n",
       " 'SATELLITE',\n",
       " 'TERRAIN',\n",
       " 'HYBRID',\n",
       " 'ESRI',\n",
       " 'Esri Ocean',\n",
       " 'Esri Satellite',\n",
       " 'Esri Standard',\n",
       " 'Esri Terrain',\n",
       " 'Esri Transportation',\n",
       " 'Esri Topo World',\n",
       " 'Esri National Geographic',\n",
       " 'Esri Shaded Relief',\n",
       " 'Esri Physical Map',\n",
       " 'FWS NWI Wetlands',\n",
       " 'FWS NWI Wetlands Raster',\n",
       " 'Google Maps',\n",
       " 'Google Satellite',\n",
       " 'Google Terrain',\n",
       " 'Google Satellite Hybrid',\n",
       " 'NLCD 2016 CONUS Land Cover',\n",
       " 'NLCD 2013 CONUS Land Cover',\n",
       " 'NLCD 2011 CONUS Land Cover',\n",
       " 'NLCD 2008 CONUS Land Cover',\n",
       " 'NLCD 2006 CONUS Land Cover',\n",
       " 'NLCD 2004 CONUS Land Cover',\n",
       " 'NLCD 2001 CONUS Land Cover',\n",
       " 'USGS NAIP Imagery',\n",
       " 'USGS Hydrography',\n",
       " 'USGS 3DEP Elevation',\n",
       " 'OpenStreetMap.Mapnik',\n",
       " 'OpenStreetMap.BlackAndWhite',\n",
       " 'OpenStreetMap.DE',\n",
       " 'OpenStreetMap.France',\n",
       " 'OpenStreetMap.HOT',\n",
       " 'Gaode.Normal',\n",
       " 'Gaode.Satellite',\n",
       " 'OpenTopoMap',\n",
       " 'Hydda.Full',\n",
       " 'Hydda.Base',\n",
       " 'Esri.WorldStreetMap',\n",
       " 'Esri.DeLorme',\n",
       " 'Esri.WorldTopoMap',\n",
       " 'Esri.WorldImagery',\n",
       " 'Esri.NatGeoWorldMap',\n",
       " 'HikeBike.HikeBike',\n",
       " 'MtbMap',\n",
       " 'CartoDB.Positron',\n",
       " 'CartoDB.DarkMatter',\n",
       " 'NASAGIBS.ModisTerraTrueColorCR',\n",
       " 'NASAGIBS.ModisTerraBands367CR',\n",
       " 'NASAGIBS.ModisTerraBands721CR',\n",
       " 'NASAGIBS.ModisAquaTrueColorCR',\n",
       " 'NASAGIBS.ModisAquaBands721CR',\n",
       " 'NASAGIBS.ViirsTrueColorCR',\n",
       " 'NASAGIBS.ViirsEarthAtNight2012',\n",
       " 'NASAGIBS.BlueMarble3413',\n",
       " 'NASAGIBS.BlueMarble3031',\n",
       " 'NASAGIBS.BlueMarble',\n",
       " 'Strava.All',\n",
       " 'Strava.Ride',\n",
       " 'Strava.Run',\n",
       " 'Strava.Water',\n",
       " 'Strava.Winter',\n",
       " 'Stamen.Terrain',\n",
       " 'Stamen.Toner',\n",
       " 'Stamen.Watercolor']"
      ]
     },
     "execution_count": 10,
     "metadata": {},
     "output_type": "execute_result"
    }
   ],
   "source": [
    "# numerous basemap layers\n",
    "[basemap for basemap in geemap.basemaps.keys()]"
   ]
  },
  {
   "cell_type": "code",
   "execution_count": null,
   "metadata": {},
   "outputs": [],
   "source": [
    "\n",
    "\n"
   ]
  }
 ],
 "metadata": {
  "kernelspec": {
   "display_name": "Python 3",
   "language": "python",
   "name": "python3"
  },
  "language_info": {
   "codemirror_mode": {
    "name": "ipython",
    "version": 3
   },
   "file_extension": ".py",
   "mimetype": "text/x-python",
   "name": "python",
   "nbconvert_exporter": "python",
   "pygments_lexer": "ipython3",
   "version": "3.9.2"
  }
 },
 "nbformat": 4,
 "nbformat_minor": 4
}
