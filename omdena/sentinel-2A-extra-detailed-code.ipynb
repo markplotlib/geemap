{
 "cells": [
  {
   "cell_type": "markdown",
   "id": "minor-passion",
   "metadata": {},
   "source": [
    "reference: [Google Colab Python API](https://worldbank.github.io/OpenNightLights/tutorials/mod2_5_GEE_PythonAPI_and_geemap.html#google-colab-python-api)"
   ]
  },
  {
   "cell_type": "code",
   "execution_count": 1,
   "id": "perceived-comparison",
   "metadata": {},
   "outputs": [],
   "source": [
    "import geemap, ee"
   ]
  },
  {
   "cell_type": "markdown",
   "id": "worst-radar",
   "metadata": {},
   "source": [
    "`True` if run in Colab; `False` if local"
   ]
  },
  {
   "cell_type": "code",
   "execution_count": 2,
   "id": "reported-elizabeth",
   "metadata": {},
   "outputs": [
    {
     "data": {
      "text/plain": [
       "False"
      ]
     },
     "execution_count": 2,
     "metadata": {},
     "output_type": "execute_result"
    }
   ],
   "source": [
    "'google.colab' in str(get_ipython())"
   ]
  },
  {
   "cell_type": "code",
   "execution_count": 3,
   "id": "sitting-vancouver",
   "metadata": {},
   "outputs": [],
   "source": [
    "try:\n",
    "        ee.Initialize()\n",
    "except Exception as e:\n",
    "        ee.Authenticate()\n",
    "        ee.Initialize()"
   ]
  },
  {
   "cell_type": "code",
   "execution_count": 4,
   "id": "intellectual-genetics",
   "metadata": {},
   "outputs": [],
   "source": [
    "# set map parameters for Ireland\n",
    "center_lat = 53.5\n",
    "center_lon = -9\n",
    "zoomlevel = 7"
   ]
  },
  {
   "cell_type": "markdown",
   "id": "sealed-arena",
   "metadata": {},
   "source": [
    "### Query Sentinel-2A data\n",
    "\n",
    "### Get image ID\n",
    "\n",
    "For selected years"
   ]
  },
  {
   "cell_type": "code",
   "execution_count": null,
   "id": "virgin-porter",
   "metadata": {},
   "outputs": [],
   "source": [
    "# ee.ImageCollection(\"NOAA/DMSP-OLS/NIGHTTIME_LIGHTS\")\n",
    "img_collection = \"COPERNICUS/S2_SR\""
   ]
  },
  {
   "cell_type": "markdown",
   "id": "written-pulse",
   "metadata": {},
   "source": [
    "##### JavaScript\n",
    "\n",
    "    Map = ee.ImageCollection('COPERNICUS/S2_SR').filterDate('2020-01-01', '2020-01-30')\n",
    "                  # Pre-filter to get less cloudy granules.\n",
    "    #               .filter(ee.Filter.lt('CLOUDY_PIXEL_PERCENTAGE',20))\n",
    "    #               .map(maskS2clouds);\n",
    "\n",
    "    asdf = geemap.Map(center=[center_lat,center_lon], zoom=zoomlevel)\n",
    "    # Map.setCenter(center_lat,center_lon,zoomlevel)\n",
    "    Map.addLayer(nighttimeLights, nighttimeLightsVis, 'Nighttime Lights');"
   ]
  },
  {
   "cell_type": "code",
   "execution_count": null,
   "id": "brazilian-daniel",
   "metadata": {},
   "outputs": [],
   "source": [
    "# TODO\n",
    "# s2a_id = img_collection + 'F182013'\n",
    "s2a_id = img_collection + '_________'  # TODO"
   ]
  },
  {
   "cell_type": "code",
   "execution_count": 12,
   "id": "compact-found",
   "metadata": {},
   "outputs": [],
   "source": [
    "# create the ee object\n",
    "s2a = ee.Image(s2a_id)\n",
    "\n",
    "# initialize a map object, centered on Abuja\n",
    "Map6 = geemap.Map(center=[center_lat,center_lon], zoom=zoomlevel)"
   ]
  },
  {
   "cell_type": "code",
   "execution_count": 13,
   "id": "intimate-working",
   "metadata": {
    "scrolled": true
   },
   "outputs": [
    {
     "data": {
      "application/vnd.jupyter.widget-view+json": {
       "model_id": "903f476b75ce48449b2693a643325bfb",
       "version_major": 2,
       "version_minor": 0
      },
      "text/plain": [
       "Map(center=[9.0, 7.4], controls=(WidgetControl(options=['position', 'transparent_bg'], widget=HBox(children=(T…"
      ]
     },
     "metadata": {},
     "output_type": "display_data"
    }
   ],
   "source": [
    "# name it \"DMSP NTL 2013\", create a mask, and give it an opacity of 75%.\n",
    "Map6.addLayer(s2a.mask(s2a),\n",
    "              name='DMSP NTL 2013 masked', opacity=.75)\n",
    "\n",
    "Map6.addLayerControl()\n",
    "Map6"
   ]
  },
  {
   "cell_type": "markdown",
   "id": "demographic-composer",
   "metadata": {},
   "source": [
    "### 6.3.1. Changing opacity"
   ]
  },
  {
   "cell_type": "code",
   "execution_count": 9,
   "id": "normal-token",
   "metadata": {},
   "outputs": [
    {
     "data": {
      "application/vnd.jupyter.widget-view+json": {
       "model_id": "ccb9735351674e62a35844a16affae5d",
       "version_major": 2,
       "version_minor": 0
      },
      "text/plain": [
       "Map(center=[9.0, 7.4], controls=(WidgetControl(options=['position', 'transparent_bg'], widget=HBox(children=(T…"
      ]
     },
     "metadata": {},
     "output_type": "display_data"
    }
   ],
   "source": [
    "Map3 = geemap.Map(center=[center_lat,center_lon], zoom=zoomlevel)\n",
    "Map3.addLayer(dmsp92, name='DMSP NTL 1992', opacity=0.75)\n",
    "\n",
    "Map3.addLayerControl()\n",
    "Map3"
   ]
  },
  {
   "cell_type": "markdown",
   "id": "durable-brown",
   "metadata": {},
   "source": [
    "## 6.4. Creating a mask"
   ]
  },
  {
   "cell_type": "code",
   "execution_count": 10,
   "id": "alien-mercury",
   "metadata": {
    "scrolled": true
   },
   "outputs": [
    {
     "data": {
      "application/vnd.jupyter.widget-view+json": {
       "model_id": "d43853b4f6c84a7fbd1b912519b9a843",
       "version_major": 2,
       "version_minor": 0
      },
      "text/plain": [
       "Map(center=[9.0, 7.4], controls=(WidgetControl(options=['position', 'transparent_bg'], widget=HBox(children=(T…"
      ]
     },
     "metadata": {},
     "output_type": "display_data"
    }
   ],
   "source": [
    "Map4 = geemap.Map(center=[center_lat,center_lon], zoom=zoomlevel)\n",
    "Map4.addLayer(dmsp92.mask(dmsp92), name='DMSP NTL 1992 masked', opacity=0.75)\n",
    "\n",
    "Map4.addLayerControl()\n",
    "Map4"
   ]
  },
  {
   "cell_type": "markdown",
   "id": "smoking-relaxation",
   "metadata": {},
   "source": [
    "## 6.5. Change the basemap"
   ]
  },
  {
   "cell_type": "code",
   "execution_count": 11,
   "id": "empty-metro",
   "metadata": {},
   "outputs": [
    {
     "data": {
      "application/vnd.jupyter.widget-view+json": {
       "model_id": "07d741a76dbc432987859f92f24837f6",
       "version_major": 2,
       "version_minor": 0
      },
      "text/plain": [
       "Map(center=[9.0, 7.4], controls=(WidgetControl(options=['position', 'transparent_bg'], widget=HBox(children=(T…"
      ]
     },
     "metadata": {},
     "output_type": "display_data"
    }
   ],
   "source": [
    "# initial map object centered on Abuja\n",
    "Map5 = geemap.Map(center=[center_lat,center_lon], zoom=zoomlevel)\n",
    "\n",
    "# add our alternate basemap\n",
    "Map5.add_basemap(\"SATELLITE\")\n",
    "\n",
    "# add our 1992 (and remember to create a mask and change opacity to 75%)\n",
    "Map5.addLayer(dmsp92.mask(dmsp92), name='DMSP NTL 1992 masked', opacity=0.75)\n",
    "\n",
    "Map5.addLayerControl()\n",
    "Map5"
   ]
  },
  {
   "cell_type": "markdown",
   "id": "frank-beach",
   "metadata": {},
   "source": [
    "# (local PC only) Create a split panel view\n",
    "\n",
    "Warning, this is based on `ipyleaflet` a Python library that does not play well with Google Colab, so this code will not work in the Google Colab environment but should on your local machine."
   ]
  },
  {
   "cell_type": "code",
   "execution_count": 16,
   "id": "opening-brain",
   "metadata": {},
   "outputs": [],
   "source": [
    "# generate tile layers from the ee image objects, masking and changing opacity to 75%\n",
    "dmsp92_tile = geemap.ee_tile_layer(dmsp92.mask(dmsp92), {}, 'DMSP NTL 1992', opacity=0.75)\n",
    "dmsp2013_tile = geemap.ee_tile_layer(dmsp13.mask(dmsp13), {}, 'DMSP NTL 2013', opacity=0.75)"
   ]
  },
  {
   "cell_type": "code",
   "execution_count": 17,
   "id": "deluxe-printing",
   "metadata": {},
   "outputs": [
    {
     "data": {
      "application/vnd.jupyter.widget-view+json": {
       "model_id": "793e13ff089743c5b34846714505a7d5",
       "version_major": 2,
       "version_minor": 0
      },
      "text/plain": [
       "Map(center=[9.0, 7.4], controls=(WidgetControl(options=['position', 'transparent_bg'], widget=HBox(children=(T…"
      ]
     },
     "metadata": {},
     "output_type": "display_data"
    }
   ],
   "source": [
    "# initial map object centered on Abuja\n",
    "Map7 = geemap.Map(center=[center_lat,center_lon], zoom=zoomlevel)\n",
    "\n",
    "# use .split_map function to create split panels\n",
    "Map7.split_map(left_layer=dmsp92_tile, right_layer=dmsp2013_tile)\n",
    "\n",
    "\n",
    "Map7.addLayerControl()\n",
    "Map7"
   ]
  }
 ],
 "metadata": {
  "kernelspec": {
   "display_name": "Python 3",
   "language": "python",
   "name": "python3"
  },
  "language_info": {
   "codemirror_mode": {
    "name": "ipython",
    "version": 3
   },
   "file_extension": ".py",
   "mimetype": "text/x-python",
   "name": "python",
   "nbconvert_exporter": "python",
   "pygments_lexer": "ipython3",
   "version": "3.9.2"
  }
 },
 "nbformat": 4,
 "nbformat_minor": 5
}
