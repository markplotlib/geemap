{
 "cells": [
  {
   "cell_type": "markdown",
   "id": "secret-april",
   "metadata": {},
   "source": [
    "Source: [GEE](https://code.earthengine.google.com/)\n",
    "\n",
    "##### [CORINE](https://land.copernicus.eu/pan-european/corine-land-cover/view)\n",
    "\n",
    "> The CORINE (coordination of information on the environment) Land Cover (CLC) inventory was initiated in 1985 to standardize data collection on land in Europe to support environmental policy development. The project is coordinated by the European Environment Agency (EEA) in the frame of the EU Copernicus programme and implemented by national teams. The number of participating countries has increased over time currently including 33 (EEA) member countries and six cooperating countries (EEA39) with a total area of over 5.8 Mkm2."
   ]
  },
  {
   "cell_type": "code",
   "execution_count": 1,
   "id": "changing-bankruptcy",
   "metadata": {},
   "outputs": [],
   "source": [
    "# reminder that if you are installing libraries in a Google Colab instance you will be prompted to restart your kernal\n",
    "import geemap, ee\n",
    "import os"
   ]
  },
  {
   "cell_type": "code",
   "execution_count": 2,
   "id": "typical-progressive",
   "metadata": {},
   "outputs": [],
   "source": [
    "ee.Initialize()\n",
    "\n",
    "# set map parameters for Ireland\n",
    "center_lat = 53.5\n",
    "center_lon = -9\n",
    "\n",
    "# get our admin boundary\n",
    "aoi = ee.FeatureCollection(\"FAO/GAUL/2015/level0\").filter(ee.Filter.eq('ADM0_NAME','Ireland')).geometry()\n",
    "\n",
    "# Sentinel-2 image filtered on 2019 and on Ireland\n",
    "se2 = ee.ImageCollection('COPERNICUS/S2').filterDate(\"2019-01-01\",\"2019-12-31\").filterBounds(aoi).median().divide(10000)\n",
    "\n",
    "# channels\n",
    "rgb = ['B4','B3','B2']\n",
    "\n",
    "# set some thresholds\n",
    "rgbViz = {\"min\":0.0, \"max\":0.3,\"bands\":rgb}"
   ]
  },
  {
   "cell_type": "code",
   "execution_count": 3,
   "id": "valuable-spelling",
   "metadata": {
    "scrolled": false
   },
   "outputs": [
    {
     "data": {
      "application/vnd.jupyter.widget-view+json": {
       "model_id": "f2279f84385d48ba97d6375ea93c30ad",
       "version_major": 2,
       "version_minor": 0
      },
      "text/plain": [
       "Map(center=[53.16757734522266, -8.160256013964048], controls=(WidgetControl(options=['position', 'transparent_…"
      ]
     },
     "metadata": {},
     "output_type": "display_data"
    }
   ],
   "source": [
    "# initialize our map\n",
    "map1 = geemap.Map()\n",
    "map1.centerObject(aoi, 7)\n",
    "map1.addLayer(se2.clip(aoi), rgbViz, \"S2\")\n",
    "\n",
    "map1.addLayerControl()\n",
    "map1"
   ]
  },
  {
   "cell_type": "markdown",
   "id": "dangerous-vanilla",
   "metadata": {},
   "source": [
    "##### [GEE](https://code.earthengine.google.com/?scriptPath=Examples%3ADatasets%2FCOPERNICUS_CORINE_V20_100m): in JavaScript\n",
    "\n",
    "```JS\n",
    "var dataset = ee.Image('COPERNICUS/CORINE/V20/100m/2012');\n",
    "var landCover = dataset.select('landcover');\n",
    "Map.setCenter(16.436, 39.825, 6);\n",
    "Map.addLayer(landCover, {}, 'Land Cover');\n",
    "```"
   ]
  },
  {
   "cell_type": "markdown",
   "id": "virgin-florence",
   "metadata": {},
   "source": [
    "Issue: code in JavaScript\n",
    "\n",
    "Solution: Auto-conversion to Python!\n",
    "\n",
    "* Hover over the Toolbar (top-right button)\n",
    "\n",
    "![JS-to-Py](./img/JS-Py.png)"
   ]
  },
  {
   "cell_type": "code",
   "execution_count": 4,
   "id": "available-orange",
   "metadata": {},
   "outputs": [
    {
     "data": {
      "application/vnd.jupyter.widget-view+json": {
       "model_id": "96a66bb8556a4330945f3ee362753a63",
       "version_major": 2,
       "version_minor": 0
      },
      "text/plain": [
       "Map(center=[53.16757734522266, -8.160256013964048], controls=(WidgetControl(options=['position', 'transparent_…"
      ]
     },
     "metadata": {},
     "output_type": "display_data"
    }
   ],
   "source": [
    "dataset = ee.Image('COPERNICUS/CORINE/V20/100m/2012')\n",
    "landCover = dataset.select('landcover')\n",
    "\n",
    "map2 = geemap.Map(center=[center_lat,center_lon], zoom=7)\n",
    "map2.centerObject(aoi, 7)\n",
    "map2.addLayer(se2.clip(aoi), rgbViz, \"S2\")\n",
    "\n",
    "# map2.setCenter(center_lat, center_lon, 7)\n",
    "map2.addLayer(landCover, {}, 'Land Cover')\n",
    "\n",
    "map2.addLayerControl()\n",
    "map2"
   ]
  },
  {
   "attachments": {},
   "cell_type": "markdown",
   "id": "chubby-uganda",
   "metadata": {},
   "source": [
    "![CORINE Land Cover over Ireland](./img/IRL_CLC.png)\n",
    "\n",
    "### CORINE Land Cover classification\n",
    "\n",
    "![CLC legend](./img/CLC_smpl.png)\n",
    "\n",
    "[Full link here](https://developers.google.com/earth-engine/datasets/catalog/COPERNICUS_CORINE_V20_100m#bands). For color chart, open in [GEE](https://code.earthengine.google.com/)"
   ]
  }
 ],
 "metadata": {
  "kernelspec": {
   "display_name": "Python 3",
   "language": "python",
   "name": "python3"
  },
  "language_info": {
   "codemirror_mode": {
    "name": "ipython",
    "version": 3
   },
   "file_extension": ".py",
   "mimetype": "text/x-python",
   "name": "python",
   "nbconvert_exporter": "python",
   "pygments_lexer": "ipython3",
   "version": "3.9.2"
  }
 },
 "nbformat": 4,
 "nbformat_minor": 5
}
