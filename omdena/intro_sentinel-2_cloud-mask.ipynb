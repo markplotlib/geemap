{
 "cells": [
  {
   "cell_type": "markdown",
   "id": "secret-april",
   "metadata": {},
   "source": [
    "Source: [Tutorial](https://worldbank.github.io/OpenNightLights/tutorials/mod6_3_intro_to_sentinel2.html)\n",
    "\n",
    "[sentinel-2](https://sentinel.esa.int/web/sentinel/missions/sentinel-2)\n",
    "\n",
    "[(GEE) collection’s landing pages](https://developers.google.com/earth-engine/datasets/catalog/COPERNICUS_S2) -- more details\n"
   ]
  },
  {
   "cell_type": "markdown",
   "id": "demanding-cheese",
   "metadata": {},
   "source": [
    "#### Intro\n",
    "\n",
    "##### Sentinel-2 satellites\n",
    "* hi-resolution imagery provided by the MultiSpectral Instrument (MSI), useful for land use monitoring\n",
    "* * part of European Space Agency’s (ESA) Copernicus system\n",
    "\n",
    "* several image bands across the *optical* electromagnetic spectrum, useful  for classifying land use, particular that of built-up areas.\n",
    "\n",
    "* * For visualization: just RGB channels"
   ]
  },
  {
   "cell_type": "code",
   "execution_count": 1,
   "id": "patent-guide",
   "metadata": {},
   "outputs": [],
   "source": [
    "# reminder that if you are installing libraries in a Google Colab instance you will be prompted to restart your kernal\n",
    "import geemap, ee\n",
    "import os"
   ]
  },
  {
   "cell_type": "code",
   "execution_count": 2,
   "id": "auburn-river",
   "metadata": {},
   "outputs": [],
   "source": [
    "ee.Initialize()\n",
    "\n",
    "# get our admin boundary\n",
    "aoi = ee.FeatureCollection(\"FAO/GAUL/2015/level0\").filter(ee.Filter.eq('ADM0_NAME','Ireland')).geometry()\n",
    "\n",
    "# Sentinel-2 image filtered on 2019 and on Ireland\n",
    "se2 = ee.ImageCollection('COPERNICUS/S2').filterDate(\"2019-01-01\",\"2019-12-31\").filterBounds(aoi).median().divide(10000)\n",
    "\n",
    "# channels\n",
    "rgb = ['B4','B3','B2']\n",
    "\n",
    "# set some thresholds\n",
    "rgbViz = {\"min\":0.0, \"max\":0.3,\"bands\":rgb}"
   ]
  },
  {
   "cell_type": "code",
   "execution_count": 3,
   "id": "valuable-spelling",
   "metadata": {},
   "outputs": [],
   "source": [
    "# initialize our map\n",
    "map1 = geemap.Map()\n",
    "map1.centerObject(aoi, 7)\n",
    "map1.addLayer(se2.clip(aoi), rgbViz, \"S2\")\n",
    "\n",
    "map1.addLayerControl()"
   ]
  },
  {
   "cell_type": "markdown",
   "id": "optical-highway",
   "metadata": {},
   "source": [
    "### attempt 1: save map (GUI)\n",
    "\n",
    "![Ireland - cloud cover](./IRL_clouds.png)"
   ]
  },
  {
   "cell_type": "markdown",
   "id": "intellectual-jewel",
   "metadata": {},
   "source": [
    "### [attempt 2](https://geemap.org/notebooks/11_export_image/#export-an-image-to-google-drive)"
   ]
  },
  {
   "cell_type": "code",
   "execution_count": 4,
   "id": "alike-worry",
   "metadata": {},
   "outputs": [],
   "source": [
    "out_dir = os.path.join(os.path.expanduser('~'), 'Downloads')\n",
    "filename = os.path.join(out_dir, 'IRL_clouds.tif')"
   ]
  },
  {
   "cell_type": "code",
   "execution_count": 14,
   "id": "exceptional-fantasy",
   "metadata": {},
   "outputs": [],
   "source": [
    "feature = map1.draw_last_feature\n",
    "if feature is None:\n",
    "    geom = ee.Geometry.Polygon([[[-115.413031, 35.889467],\n",
    "    [-115.413031, 36.543157],\n",
    "    [-114.034328, 36.543157],\n",
    "    [-114.034328, 35.889467],\n",
    "    [-115.413031, 35.889467]]])\n",
    "    feature = ee.Feature(geom, {})\n",
    "\n",
    "roi = feature.geometry()\n",
    "\n",
    "# Exporting all bands as one single image\n",
    "se2 = se2.clip(roi).unmask()\n",
    "geemap.ee_export_image(se2, filename=filename, scale=90, region=roi, file_per_band=False)"
   ]
  },
  {
   "cell_type": "markdown",
   "id": "virgin-florence",
   "metadata": {},
   "source": [
    "Issue: It appears we’ve also captured some clouds. \n",
    "\n",
    "Solution: We will make a cloud mask to clear the image up using Sentinel-2’s QA band. We’re modeling this (in Python) from the [example used in GEE](https://developers.google.com/earth-engine/datasets/catalog/COPERNICUS_S2#bands)\n",
    "* Name: `QA60`\n",
    "* * Description: Cloud Mask"
   ]
  },
  {
   "cell_type": "code",
   "execution_count": 5,
   "id": "infinite-citizenship",
   "metadata": {},
   "outputs": [],
   "source": [
    "def se2mask(image):\n",
    "    quality_band = image.select('QA60')\n",
    "    \n",
    "    # using the bit mask for clouds, incl cirrus clouds\n",
    "    cloudmask = 1 << 10\n",
    "    cirrusmask = 1 << 11\n",
    "    \n",
    "    # only clear skies\n",
    "    mask = quality_band.bitwiseAnd(cloudmask).eq(0) and (quality_band.bitwiseAnd(cirrusmask).eq(0))\n",
    "    \n",
    "    # divide by 10000 to make interpreting reflectance values easier\n",
    "    return image.updateMask(mask).divide(10000)\n",
    "    "
   ]
  },
  {
   "cell_type": "code",
   "execution_count": 6,
   "id": "funded-arthritis",
   "metadata": {},
   "outputs": [
    {
     "data": {
      "application/vnd.jupyter.widget-view+json": {
       "model_id": "5421259d798747f89e106551c7eba8aa",
       "version_major": 2,
       "version_minor": 0
      },
      "text/plain": [
       "Map(center=[53.16757734522266, -8.160256013964048], controls=(WidgetControl(options=['position', 'transparent_…"
      ]
     },
     "metadata": {},
     "output_type": "display_data"
    }
   ],
   "source": [
    "se2 = ee.ImageCollection('COPERNICUS/S2').filterDate(\n",
    "    \"2019-01-01\",\"2019-12-31\").filterBounds(aoi).filter(\n",
    "    ee.Filter.lt(\"CLOUDY_PIXEL_PERCENTAGE\",20)).map(se2mask).median()\n",
    "\n",
    "# initialize our map\n",
    "map2 = geemap.Map()\n",
    "map2.centerObject(aoi, 7)\n",
    "map2.addLayer(se2.clip(aoi), rgbViz, \"S2\")\n",
    "\n",
    "map2.addLayerControl()\n",
    "map2"
   ]
  },
  {
   "cell_type": "code",
   "execution_count": null,
   "id": "radio-track",
   "metadata": {},
   "outputs": [],
   "source": []
  }
 ],
 "metadata": {
  "kernelspec": {
   "display_name": "Python 3",
   "language": "python",
   "name": "python3"
  },
  "language_info": {
   "codemirror_mode": {
    "name": "ipython",
    "version": 3
   },
   "file_extension": ".py",
   "mimetype": "text/x-python",
   "name": "python",
   "nbconvert_exporter": "python",
   "pygments_lexer": "ipython3",
   "version": "3.9.2"
  }
 },
 "nbformat": 4,
 "nbformat_minor": 5
}
